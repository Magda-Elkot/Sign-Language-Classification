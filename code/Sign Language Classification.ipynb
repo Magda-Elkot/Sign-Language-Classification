{
 "cells": [
  {
   "cell_type": "code",
   "execution_count": 1,
   "id": "34615e04",
   "metadata": {},
   "outputs": [],
   "source": [
    "import pandas as pd\n",
    "import numpy as np\n",
    "from sklearn.model_selection import train_test_split\n",
    "from sklearn.preprocessing import LabelEncoder\n",
    "from keras.preprocessing.image import ImageDataGenerator\n",
    "import keras\n",
    "from keras.models import Sequential\n",
    "from keras.layers import Dense,Flatten,Conv2D,MaxPool2D,Dropout\n",
    "import matplotlib.pyplot as plt\n",
    "import seaborn as sns\n",
    "from tensorflow.keras.preprocessing.image import ImageDataGenerator"
   ]
  },
  {
   "cell_type": "markdown",
   "id": "a9e7816e",
   "metadata": {},
   "source": [
    "# Define paths to train and test data"
   ]
  },
  {
   "cell_type": "code",
   "execution_count": 2,
   "id": "090b156b",
   "metadata": {},
   "outputs": [],
   "source": [
    "train_path = \"C:/Users/Magda/Documents/sy/archive (4)/sign_mnist_train.csv\"\n",
    "test_path = \"C:/Users/Magda/Documents/sy/archive (4)/sign_mnist_test.csv\""
   ]
  },
  {
   "cell_type": "markdown",
   "id": "21658e1a",
   "metadata": {},
   "source": [
    "# Load train data"
   ]
  },
  {
   "cell_type": "code",
   "execution_count": 3,
   "id": "367b8138",
   "metadata": {},
   "outputs": [],
   "source": [
    "train_data = pd.read_csv(train_path)"
   ]
  },
  {
   "cell_type": "code",
   "execution_count": 4,
   "id": "5fb7e51c",
   "metadata": {},
   "outputs": [
    {
     "name": "stdout",
     "output_type": "stream",
     "text": [
      "<class 'pandas.core.frame.DataFrame'>\n",
      "RangeIndex: 27455 entries, 0 to 27454\n",
      "Columns: 785 entries, label to pixel784\n",
      "dtypes: int64(785)\n",
      "memory usage: 164.4 MB\n"
     ]
    }
   ],
   "source": [
    "train_data.info()"
   ]
  },
  {
   "cell_type": "code",
   "execution_count": 5,
   "id": "f594b670",
   "metadata": {},
   "outputs": [],
   "source": [
    "train_labels = train_data['label']\n",
    "train_data.drop('label', axis=1, inplace=True)\n",
    "train_data = train_data.values.reshape((-1, 28, 28, 1))"
   ]
  },
  {
   "cell_type": "code",
   "execution_count": 6,
   "id": "46ca0969",
   "metadata": {},
   "outputs": [
    {
     "data": {
      "text/plain": [
       "0     3\n",
       "1     6\n",
       "2     2\n",
       "3     2\n",
       "4    13\n",
       "Name: label, dtype: int64"
      ]
     },
     "execution_count": 6,
     "metadata": {},
     "output_type": "execute_result"
    }
   ],
   "source": [
    "train_labels.head()"
   ]
  },
  {
   "cell_type": "markdown",
   "id": "f67a3e7f",
   "metadata": {},
   "source": [
    "# Load test data"
   ]
  },
  {
   "cell_type": "code",
   "execution_count": 7,
   "id": "e060640a",
   "metadata": {},
   "outputs": [],
   "source": [
    "test_data = pd.read_csv(test_path)"
   ]
  },
  {
   "cell_type": "code",
   "execution_count": 8,
   "id": "8073f3d5",
   "metadata": {},
   "outputs": [
    {
     "name": "stdout",
     "output_type": "stream",
     "text": [
      "<class 'pandas.core.frame.DataFrame'>\n",
      "RangeIndex: 7172 entries, 0 to 7171\n",
      "Columns: 785 entries, label to pixel784\n",
      "dtypes: int64(785)\n",
      "memory usage: 43.0 MB\n"
     ]
    }
   ],
   "source": [
    "test_data.info()"
   ]
  },
  {
   "cell_type": "code",
   "execution_count": 9,
   "id": "a8a88f30",
   "metadata": {},
   "outputs": [],
   "source": [
    "test_labels = test_data['label']\n",
    "test_data.drop('label', axis=1, inplace=True)\n",
    "test_data = test_data.values.reshape((-1, 28, 28, 1))"
   ]
  },
  {
   "cell_type": "code",
   "execution_count": 10,
   "id": "2eebebe0",
   "metadata": {},
   "outputs": [
    {
     "data": {
      "text/plain": [
       "0     6\n",
       "1     5\n",
       "2    10\n",
       "3     0\n",
       "4     3\n",
       "Name: label, dtype: int64"
      ]
     },
     "execution_count": 10,
     "metadata": {},
     "output_type": "execute_result"
    }
   ],
   "source": [
    "test_labels.head()"
   ]
  },
  {
   "cell_type": "markdown",
   "id": "6fbecf6a",
   "metadata": {},
   "source": [
    "# Encode labels using LabelBinarizer"
   ]
  },
  {
   "cell_type": "code",
   "execution_count": 11,
   "id": "0b5fc9e3",
   "metadata": {},
   "outputs": [],
   "source": [
    "from sklearn.preprocessing import LabelBinarizer\n",
    "lb=LabelBinarizer()\n",
    "train_labels = lb.fit_transform(train_labels)\n",
    "test_labels = lb.fit_transform(test_labels)"
   ]
  },
  {
   "cell_type": "code",
   "execution_count": 12,
   "id": "6b2e0455",
   "metadata": {},
   "outputs": [
    {
     "name": "stdout",
     "output_type": "stream",
     "text": [
      "(27455, 28, 28, 1) (27455, 24) (7172, 28, 28, 1) (7172, 24)\n"
     ]
    }
   ],
   "source": [
    "print(train_data.shape,train_labels.shape,test_data.shape,test_labels.shape)"
   ]
  },
  {
   "cell_type": "markdown",
   "id": "d27b7836",
   "metadata": {},
   "source": [
    "# Normalize data"
   ]
  },
  {
   "cell_type": "code",
   "execution_count": 13,
   "id": "757b3215",
   "metadata": {},
   "outputs": [],
   "source": [
    "train_data = np.array(train_data).astype('float32') / 255.0\n",
    "test_data = np.array(test_data).astype('float32') / 255.0"
   ]
  },
  {
   "cell_type": "markdown",
   "id": "2ad9e619",
   "metadata": {},
   "source": [
    "# Apply data augmentation"
   ]
  },
  {
   "cell_type": "code",
   "execution_count": 15,
   "id": "45943704",
   "metadata": {},
   "outputs": [],
   "source": [
    "aug = ImageDataGenerator(rotation_range=30, zoom_range=0.15,\n",
    "                         width_shift_range=0.2, height_shift_range=0.2,\n",
    "                         shear_range=0.15, horizontal_flip=True,\n",
    "                         fill_mode=\"nearest\")"
   ]
  },
  {
   "cell_type": "code",
   "execution_count": 16,
   "id": "cf700f4c",
   "metadata": {},
   "outputs": [
    {
     "data": {
      "image/png": "[encoded data removed]",
      "text/plain": [
       "<Figure size 1000x600 with 15 Axes>"
      ]
     },
     "metadata": {},
     "output_type": "display_data"
    }
   ],
   "source": [
    "import matplotlib.pyplot as plt\n",
    "\n",
    "# Define the mapping between label index and label name\n",
    "label_names = ['A', 'B', 'C', 'D', 'E', 'F', 'G', 'H', 'I', 'J', 'K', 'L', 'M',\n",
    "               'N', 'O', 'P', 'Q', 'R', 'S', 'T', 'U', 'V', 'W', 'X', 'Y', 'Z']\n",
    "\n",
    "# Display some sample images\n",
    "fig, axes = plt.subplots(nrows=3, ncols=5, figsize=(10, 6))\n",
    "for i, ax in enumerate(axes.flat):\n",
    "    ax.imshow(train_data[i].squeeze(), cmap='gray')\n",
    "    ax.set_title(label_names[np.argmax(train_labels[i])])\n",
    "    ax.axis('off')\n",
    "plt.tight_layout()\n",
    "plt.show()"
   ]
  },
  {
   "cell_type": "code",
   "execution_count": 17,
   "id": "d0bb35c1",
   "metadata": {},
   "outputs": [],
   "source": [
    "from keras.models import Sequential\n",
    "from keras.layers import Conv2D, MaxPooling2D, Flatten, Dense, Dropout"
   ]
  },
  {
   "cell_type": "markdown",
   "id": "cb2061e4",
   "metadata": {},
   "source": [
    "# Define the CNN architecture"
   ]
  },
  {
   "cell_type": "code",
   "execution_count": 18,
   "id": "59a26507",
   "metadata": {},
   "outputs": [],
   "source": [
    "model=Sequential()\n",
    "model.add(Conv2D(128,kernel_size=(5,5),\n",
    "                 strides=1,padding='same',activation='relu',input_shape=(28,28,1)))\n",
    "model.add(MaxPool2D(pool_size=(3,3),strides=2,padding='same'))\n",
    "model.add(Conv2D(64,kernel_size=(2,2),\n",
    "                strides=1,activation='relu',padding='same'))\n",
    "model.add(MaxPool2D((2,2),2,padding='same'))\n",
    "model.add(Conv2D(32,kernel_size=(2,2),\n",
    "                strides=1,activation='relu',padding='same'))\n",
    "model.add(MaxPool2D((2,2),2,padding='same'))\n",
    "          \n",
    "model.add(Flatten())"
   ]
  },
  {
   "cell_type": "markdown",
   "id": "6d52ab39",
   "metadata": {},
   "source": [
    "# Dense and output layers"
   ]
  },
  {
   "cell_type": "code",
   "execution_count": 19,
   "id": "a84cd94f",
   "metadata": {},
   "outputs": [
    {
     "name": "stdout",
     "output_type": "stream",
     "text": [
      "Model: \"sequential\"\n",
      "_________________________________________________________________\n",
      " Layer (type)                Output Shape              Param #   \n",
      "=================================================================\n",
      " conv2d (Conv2D)             (None, 28, 28, 128)       3328      \n",
      "                                                                 \n",
      " max_pooling2d (MaxPooling2D  (None, 14, 14, 128)      0         \n",
      " )                                                               \n",
      "                                                                 \n",
      " conv2d_1 (Conv2D)           (None, 14, 14, 64)        32832     \n",
      "                                                                 \n",
      " max_pooling2d_1 (MaxPooling  (None, 7, 7, 64)         0         \n",
      " 2D)                                                             \n",
      "                                                                 \n",
      " conv2d_2 (Conv2D)           (None, 7, 7, 32)          8224      \n",
      "                                                                 \n",
      " max_pooling2d_2 (MaxPooling  (None, 4, 4, 32)         0         \n",
      " 2D)                                                             \n",
      "                                                                 \n",
      " flatten (Flatten)           (None, 512)               0         \n",
      "                                                                 \n",
      " dense (Dense)               (None, 512)               262656    \n",
      "                                                                 \n",
      " dropout (Dropout)           (None, 512)               0         \n",
      "                                                                 \n",
      " dense_1 (Dense)             (None, 24)                12312     \n",
      "                                                                 \n",
      "=================================================================\n",
      "Total params: 319,352\n",
      "Trainable params: 319,352\n",
      "Non-trainable params: 0\n",
      "_________________________________________________________________\n"
     ]
    }
   ],
   "source": [
    "model.add(Dense(units=512,activation='relu'))\n",
    "model.add(Dropout(rate=0.25))\n",
    "model.add(Dense(units=24,activation='softmax'))\n",
    "model.summary()"
   ]
  },
  {
   "cell_type": "markdown",
   "id": "af000efe",
   "metadata": {},
   "source": [
    "# Compile the model"
   ]
  },
  {
   "cell_type": "code",
   "execution_count": 20,
   "id": "7491dafb",
   "metadata": {},
   "outputs": [],
   "source": [
    "model.compile(optimizer='adam',loss='categorical_crossentropy',metrics=['accuracy'])"
   ]
  },
  {
   "cell_type": "markdown",
   "id": "3c412b9c",
   "metadata": {},
   "source": [
    "# Train the model"
   ]
  },
  {
   "cell_type": "code",
   "execution_count": 21,
   "id": "8c3e02b9",
   "metadata": {},
   "outputs": [
    {
     "name": "stdout",
     "output_type": "stream",
     "text": [
      "Epoch 1/125\n",
      "138/138 [==============================] - 62s 441ms/step - loss: 3.0578 - accuracy: 0.0889 - val_loss: 2.6023 - val_accuracy: 0.1920\n",
      "Epoch 2/125\n",
      "138/138 [==============================] - 56s 405ms/step - loss: 2.4524 - accuracy: 0.2370 - val_loss: 1.7395 - val_accuracy: 0.4260\n",
      "Epoch 3/125\n",
      "138/138 [==============================] - 54s 390ms/step - loss: 1.9477 - accuracy: 0.3678 - val_loss: 1.2749 - val_accuracy: 0.5811\n",
      "Epoch 4/125\n",
      "138/138 [==============================] - 89s 648ms/step - loss: 1.6049 - accuracy: 0.4684 - val_loss: 0.9385 - val_accuracy: 0.6587\n",
      "Epoch 5/125\n",
      "138/138 [==============================] - 93s 674ms/step - loss: 1.3544 - accuracy: 0.5488 - val_loss: 0.7889 - val_accuracy: 0.7221\n",
      "Epoch 6/125\n",
      "138/138 [==============================] - 96s 694ms/step - loss: 1.1989 - accuracy: 0.5962 - val_loss: 0.7421 - val_accuracy: 0.7319\n",
      "Epoch 7/125\n",
      "138/138 [==============================] - 94s 678ms/step - loss: 1.0420 - accuracy: 0.6479 - val_loss: 0.6141 - val_accuracy: 0.7776\n",
      "Epoch 8/125\n",
      "138/138 [==============================] - 94s 677ms/step - loss: 0.9340 - accuracy: 0.6843 - val_loss: 0.5129 - val_accuracy: 0.8100\n",
      "Epoch 9/125\n",
      "138/138 [==============================] - 97s 701ms/step - loss: 0.8387 - accuracy: 0.7155 - val_loss: 0.4002 - val_accuracy: 0.8664\n",
      "Epoch 10/125\n",
      "138/138 [==============================] - 95s 688ms/step - loss: 0.7686 - accuracy: 0.7390 - val_loss: 0.4290 - val_accuracy: 0.8550\n",
      "Epoch 11/125\n",
      "138/138 [==============================] - 94s 680ms/step - loss: 0.7169 - accuracy: 0.7573 - val_loss: 0.4874 - val_accuracy: 0.8309\n",
      "Epoch 12/125\n",
      "138/138 [==============================] - 96s 695ms/step - loss: 0.6598 - accuracy: 0.7767 - val_loss: 0.3316 - val_accuracy: 0.8734\n",
      "Epoch 13/125\n",
      "138/138 [==============================] - 93s 675ms/step - loss: 0.6014 - accuracy: 0.7957 - val_loss: 0.2210 - val_accuracy: 0.9338\n",
      "Epoch 14/125\n",
      "138/138 [==============================] - 93s 674ms/step - loss: 0.5642 - accuracy: 0.8076 - val_loss: 0.2312 - val_accuracy: 0.9311\n",
      "Epoch 15/125\n",
      "138/138 [==============================] - 94s 678ms/step - loss: 0.5306 - accuracy: 0.8197 - val_loss: 0.2305 - val_accuracy: 0.9177\n",
      "Epoch 16/125\n",
      "138/138 [==============================] - 94s 677ms/step - loss: 0.5046 - accuracy: 0.8276 - val_loss: 0.2195 - val_accuracy: 0.9279\n",
      "Epoch 17/125\n",
      "138/138 [==============================] - 95s 685ms/step - loss: 0.4598 - accuracy: 0.8438 - val_loss: 0.1867 - val_accuracy: 0.9384\n",
      "Epoch 18/125\n",
      "138/138 [==============================] - 94s 678ms/step - loss: 0.4621 - accuracy: 0.8433 - val_loss: 0.1496 - val_accuracy: 0.9505\n",
      "Epoch 19/125\n",
      "138/138 [==============================] - 92s 665ms/step - loss: 0.4134 - accuracy: 0.8603 - val_loss: 0.1766 - val_accuracy: 0.9421\n",
      "Epoch 20/125\n",
      "138/138 [==============================] - 92s 662ms/step - loss: 0.4077 - accuracy: 0.8617 - val_loss: 0.1275 - val_accuracy: 0.9614\n",
      "Epoch 21/125\n",
      "138/138 [==============================] - 92s 662ms/step - loss: 0.3812 - accuracy: 0.8694 - val_loss: 0.1164 - val_accuracy: 0.9667\n",
      "Epoch 22/125\n",
      "138/138 [==============================] - 97s 702ms/step - loss: 0.3683 - accuracy: 0.8751 - val_loss: 0.1181 - val_accuracy: 0.9610\n",
      "Epoch 23/125\n",
      "138/138 [==============================] - 94s 678ms/step - loss: 0.3597 - accuracy: 0.8770 - val_loss: 0.0788 - val_accuracy: 0.9806\n",
      "Epoch 24/125\n",
      "138/138 [==============================] - 94s 677ms/step - loss: 0.3476 - accuracy: 0.8799 - val_loss: 0.1420 - val_accuracy: 0.9509\n",
      "Epoch 25/125\n",
      "138/138 [==============================] - 94s 682ms/step - loss: 0.3315 - accuracy: 0.8885 - val_loss: 0.0884 - val_accuracy: 0.9743\n",
      "Epoch 26/125\n",
      "138/138 [==============================] - 94s 678ms/step - loss: 0.3194 - accuracy: 0.8909 - val_loss: 0.0663 - val_accuracy: 0.9812\n",
      "Epoch 27/125\n",
      "138/138 [==============================] - 93s 675ms/step - loss: 0.3088 - accuracy: 0.8962 - val_loss: 0.1042 - val_accuracy: 0.9703\n",
      "Epoch 28/125\n",
      "138/138 [==============================] - 93s 671ms/step - loss: 0.3027 - accuracy: 0.8994 - val_loss: 0.0826 - val_accuracy: 0.9781\n",
      "Epoch 29/125\n",
      "138/138 [==============================] - 95s 686ms/step - loss: 0.2901 - accuracy: 0.9030 - val_loss: 0.0655 - val_accuracy: 0.9813\n",
      "Epoch 30/125\n",
      "138/138 [==============================] - 93s 672ms/step - loss: 0.2798 - accuracy: 0.9050 - val_loss: 0.0763 - val_accuracy: 0.9787\n",
      "Epoch 31/125\n",
      "138/138 [==============================] - 93s 672ms/step - loss: 0.2676 - accuracy: 0.9086 - val_loss: 0.0596 - val_accuracy: 0.9833\n",
      "Epoch 32/125\n",
      "138/138 [==============================] - 92s 667ms/step - loss: 0.2705 - accuracy: 0.9073 - val_loss: 0.0593 - val_accuracy: 0.9803\n",
      "Epoch 33/125\n",
      "138/138 [==============================] - 94s 677ms/step - loss: 0.2547 - accuracy: 0.9136 - val_loss: 0.0465 - val_accuracy: 0.9877\n",
      "Epoch 34/125\n",
      "138/138 [==============================] - 92s 673ms/step - loss: 0.2489 - accuracy: 0.9165 - val_loss: 0.0862 - val_accuracy: 0.9710\n",
      "Epoch 35/125\n",
      "138/138 [==============================] - 93s 671ms/step - loss: 0.2394 - accuracy: 0.9190 - val_loss: 0.0455 - val_accuracy: 0.9840\n",
      "Epoch 36/125\n",
      "138/138 [==============================] - 92s 663ms/step - loss: 0.2333 - accuracy: 0.9216 - val_loss: 0.0321 - val_accuracy: 0.9934\n",
      "Epoch 37/125\n",
      "138/138 [==============================] - 93s 672ms/step - loss: 0.2385 - accuracy: 0.9182 - val_loss: 0.0643 - val_accuracy: 0.9813\n",
      "Epoch 38/125\n",
      "138/138 [==============================] - 93s 674ms/step - loss: 0.2300 - accuracy: 0.9240 - val_loss: 0.0433 - val_accuracy: 0.9873\n",
      "Epoch 39/125\n",
      "138/138 [==============================] - 94s 677ms/step - loss: 0.2273 - accuracy: 0.9233 - val_loss: 0.0380 - val_accuracy: 0.9869\n",
      "Epoch 40/125\n",
      "138/138 [==============================] - 93s 670ms/step - loss: 0.2166 - accuracy: 0.9278 - val_loss: 0.0449 - val_accuracy: 0.9852\n",
      "Epoch 41/125\n",
      "138/138 [==============================] - 93s 672ms/step - loss: 0.2310 - accuracy: 0.9211 - val_loss: 0.0505 - val_accuracy: 0.9834\n",
      "Epoch 42/125\n",
      "138/138 [==============================] - 94s 675ms/step - loss: 0.2120 - accuracy: 0.9289 - val_loss: 0.0657 - val_accuracy: 0.9817\n",
      "Epoch 43/125\n",
      "138/138 [==============================] - 93s 670ms/step - loss: 0.2069 - accuracy: 0.9314 - val_loss: 0.0245 - val_accuracy: 0.9957\n",
      "Epoch 44/125\n",
      "138/138 [==============================] - 94s 680ms/step - loss: 0.2041 - accuracy: 0.9309 - val_loss: 0.0218 - val_accuracy: 0.9939\n",
      "Epoch 45/125\n",
      "138/138 [==============================] - 94s 680ms/step - loss: 0.1984 - accuracy: 0.9328 - val_loss: 0.0272 - val_accuracy: 0.9937\n",
      "Epoch 46/125\n",
      "138/138 [==============================] - 92s 664ms/step - loss: 0.2039 - accuracy: 0.9306 - val_loss: 0.0466 - val_accuracy: 0.9849\n",
      "Epoch 47/125\n",
      "138/138 [==============================] - 91s 661ms/step - loss: 0.2093 - accuracy: 0.9288 - val_loss: 0.0770 - val_accuracy: 0.9711\n",
      "Epoch 48/125\n",
      "138/138 [==============================] - 93s 672ms/step - loss: 0.1947 - accuracy: 0.9357 - val_loss: 0.0327 - val_accuracy: 0.9908\n",
      "Epoch 49/125\n",
      "138/138 [==============================] - 92s 665ms/step - loss: 0.1798 - accuracy: 0.9395 - val_loss: 0.0336 - val_accuracy: 0.9891\n",
      "Epoch 50/125\n",
      "138/138 [==============================] - 94s 679ms/step - loss: 0.1873 - accuracy: 0.9376 - val_loss: 0.0250 - val_accuracy: 0.9933\n",
      "Epoch 51/125\n",
      "138/138 [==============================] - 93s 673ms/step - loss: 0.1789 - accuracy: 0.9392 - val_loss: 0.0348 - val_accuracy: 0.9894\n",
      "Epoch 52/125\n",
      "138/138 [==============================] - 93s 672ms/step - loss: 0.1698 - accuracy: 0.9434 - val_loss: 0.0178 - val_accuracy: 0.9961\n",
      "Epoch 53/125\n",
      "138/138 [==============================] - 92s 668ms/step - loss: 0.1907 - accuracy: 0.9344 - val_loss: 0.0294 - val_accuracy: 0.9893\n",
      "Epoch 54/125\n",
      "138/138 [==============================] - 93s 675ms/step - loss: 0.1719 - accuracy: 0.9414 - val_loss: 0.0217 - val_accuracy: 0.9937\n",
      "Epoch 55/125\n",
      "138/138 [==============================] - 99s 715ms/step - loss: 0.1629 - accuracy: 0.9463 - val_loss: 0.0129 - val_accuracy: 0.9978\n",
      "Epoch 56/125\n",
      "138/138 [==============================] - 113s 816ms/step - loss: 0.1709 - accuracy: 0.9422 - val_loss: 0.0301 - val_accuracy: 0.9898\n",
      "Epoch 57/125\n",
      "138/138 [==============================] - 113s 818ms/step - loss: 0.1737 - accuracy: 0.9418 - val_loss: 0.0190 - val_accuracy: 0.9934\n",
      "Epoch 58/125\n",
      "138/138 [==============================] - 113s 814ms/step - loss: 0.1653 - accuracy: 0.9439 - val_loss: 0.0259 - val_accuracy: 0.9933\n",
      "Epoch 59/125\n",
      "138/138 [==============================] - 113s 817ms/step - loss: 0.1588 - accuracy: 0.9464 - val_loss: 0.0137 - val_accuracy: 0.9962\n",
      "Epoch 60/125\n",
      "138/138 [==============================] - 112s 813ms/step - loss: 0.1601 - accuracy: 0.9461 - val_loss: 0.0450 - val_accuracy: 0.9801\n",
      "Epoch 61/125\n",
      "138/138 [==============================] - 91s 662ms/step - loss: 0.1630 - accuracy: 0.9449 - val_loss: 0.0188 - val_accuracy: 0.9932\n",
      "Epoch 62/125\n",
      "138/138 [==============================] - 93s 675ms/step - loss: 0.1489 - accuracy: 0.9491 - val_loss: 0.0398 - val_accuracy: 0.9865\n",
      "Epoch 63/125\n",
      "138/138 [==============================] - 92s 667ms/step - loss: 0.1561 - accuracy: 0.9467 - val_loss: 0.0377 - val_accuracy: 0.9884\n",
      "Epoch 64/125\n",
      "138/138 [==============================] - 92s 667ms/step - loss: 0.1595 - accuracy: 0.9461 - val_loss: 0.0479 - val_accuracy: 0.9858\n",
      "Epoch 65/125\n",
      "138/138 [==============================] - 93s 673ms/step - loss: 0.1530 - accuracy: 0.9497 - val_loss: 0.0219 - val_accuracy: 0.9930\n",
      "Epoch 66/125\n",
      "138/138 [==============================] - 94s 676ms/step - loss: 0.1410 - accuracy: 0.9530 - val_loss: 0.0180 - val_accuracy: 0.9965\n",
      "Epoch 67/125\n",
      "138/138 [==============================] - 94s 683ms/step - loss: 0.1411 - accuracy: 0.9526 - val_loss: 0.0296 - val_accuracy: 0.9887\n",
      "Epoch 68/125\n",
      "138/138 [==============================] - 94s 679ms/step - loss: 0.1380 - accuracy: 0.9537 - val_loss: 0.0151 - val_accuracy: 0.9971\n",
      "Epoch 69/125\n",
      "138/138 [==============================] - 93s 669ms/step - loss: 0.1420 - accuracy: 0.9524 - val_loss: 0.0208 - val_accuracy: 0.9929\n",
      "Epoch 70/125\n",
      "138/138 [==============================] - 92s 668ms/step - loss: 0.1419 - accuracy: 0.9523 - val_loss: 0.0265 - val_accuracy: 0.9900\n",
      "Epoch 71/125\n",
      "138/138 [==============================] - 93s 676ms/step - loss: 0.1324 - accuracy: 0.9545 - val_loss: 0.0281 - val_accuracy: 0.9891\n",
      "Epoch 72/125\n",
      "138/138 [==============================] - 95s 685ms/step - loss: 0.1336 - accuracy: 0.9555 - val_loss: 0.0095 - val_accuracy: 0.9983\n",
      "Epoch 73/125\n",
      "138/138 [==============================] - 94s 680ms/step - loss: 0.1381 - accuracy: 0.9527 - val_loss: 0.0336 - val_accuracy: 0.9877\n",
      "Epoch 74/125\n",
      "138/138 [==============================] - 95s 685ms/step - loss: 0.1388 - accuracy: 0.9534 - val_loss: 0.0114 - val_accuracy: 0.9965\n",
      "Epoch 75/125\n",
      "138/138 [==============================] - 93s 672ms/step - loss: 0.1322 - accuracy: 0.9555 - val_loss: 0.0229 - val_accuracy: 0.9946\n",
      "Epoch 76/125\n",
      "138/138 [==============================] - 94s 681ms/step - loss: 0.1360 - accuracy: 0.9553 - val_loss: 0.0244 - val_accuracy: 0.9933\n",
      "Epoch 77/125\n",
      "138/138 [==============================] - 94s 677ms/step - loss: 0.1304 - accuracy: 0.9580 - val_loss: 0.0141 - val_accuracy: 0.9961\n",
      "Epoch 78/125\n",
      "138/138 [==============================] - 93s 676ms/step - loss: 0.1251 - accuracy: 0.9581 - val_loss: 0.0157 - val_accuracy: 0.9961\n",
      "Epoch 79/125\n",
      "138/138 [==============================] - 92s 665ms/step - loss: 0.1275 - accuracy: 0.9586 - val_loss: 0.0165 - val_accuracy: 0.9948\n",
      "Epoch 80/125\n",
      "138/138 [==============================] - 94s 681ms/step - loss: 0.1275 - accuracy: 0.9577 - val_loss: 0.0186 - val_accuracy: 0.9954\n",
      "Epoch 81/125\n",
      "138/138 [==============================] - 94s 677ms/step - loss: 0.1243 - accuracy: 0.9596 - val_loss: 0.0242 - val_accuracy: 0.9915\n",
      "Epoch 82/125\n",
      "138/138 [==============================] - 94s 681ms/step - loss: 0.1280 - accuracy: 0.9572 - val_loss: 0.0277 - val_accuracy: 0.9919\n",
      "Epoch 83/125\n",
      "138/138 [==============================] - 93s 680ms/step - loss: 0.1228 - accuracy: 0.9583 - val_loss: 0.0302 - val_accuracy: 0.9915\n",
      "Epoch 84/125\n",
      "138/138 [==============================] - 94s 682ms/step - loss: 0.1251 - accuracy: 0.9588 - val_loss: 0.0198 - val_accuracy: 0.9948\n",
      "Epoch 85/125\n",
      "138/138 [==============================] - 95s 684ms/step - loss: 0.1278 - accuracy: 0.9570 - val_loss: 0.0122 - val_accuracy: 0.9950\n",
      "Epoch 86/125\n",
      "138/138 [==============================] - 96s 692ms/step - loss: 0.1324 - accuracy: 0.9560 - val_loss: 0.0084 - val_accuracy: 0.9987\n",
      "Epoch 87/125\n",
      "138/138 [==============================] - 113s 818ms/step - loss: 0.1230 - accuracy: 0.9595 - val_loss: 0.0118 - val_accuracy: 0.9967\n",
      "Epoch 88/125\n",
      "138/138 [==============================] - 102s 732ms/step - loss: 0.1237 - accuracy: 0.9589 - val_loss: 0.0154 - val_accuracy: 0.9934\n",
      "Epoch 89/125\n",
      "138/138 [==============================] - 109s 791ms/step - loss: 0.1165 - accuracy: 0.9611 - val_loss: 0.0135 - val_accuracy: 0.9965\n",
      "Epoch 90/125\n",
      "138/138 [==============================] - 114s 826ms/step - loss: 0.1138 - accuracy: 0.9615 - val_loss: 0.0218 - val_accuracy: 0.9907\n",
      "Epoch 91/125\n",
      "138/138 [==============================] - 100s 725ms/step - loss: 0.1248 - accuracy: 0.9590 - val_loss: 0.0122 - val_accuracy: 0.9972\n",
      "Epoch 92/125\n",
      "138/138 [==============================] - 69s 496ms/step - loss: 0.1112 - accuracy: 0.9623 - val_loss: 0.0130 - val_accuracy: 0.9964\n",
      "Epoch 93/125\n",
      "138/138 [==============================] - 101s 732ms/step - loss: 0.1195 - accuracy: 0.9587 - val_loss: 0.0373 - val_accuracy: 0.9875\n",
      "Epoch 94/125\n",
      "138/138 [==============================] - 98s 709ms/step - loss: 0.1177 - accuracy: 0.9595 - val_loss: 0.0117 - val_accuracy: 0.9957\n",
      "Epoch 95/125\n",
      "138/138 [==============================] - 98s 706ms/step - loss: 0.1090 - accuracy: 0.9630 - val_loss: 0.0054 - val_accuracy: 0.9992\n",
      "Epoch 96/125\n",
      "138/138 [==============================] - 97s 702ms/step - loss: 0.1093 - accuracy: 0.9636 - val_loss: 0.0080 - val_accuracy: 0.9983\n",
      "Epoch 97/125\n",
      "138/138 [==============================] - 100s 725ms/step - loss: 0.1092 - accuracy: 0.9631 - val_loss: 0.0108 - val_accuracy: 0.9968\n",
      "Epoch 98/125\n",
      "138/138 [==============================] - 98s 707ms/step - loss: 0.1074 - accuracy: 0.9643 - val_loss: 0.0084 - val_accuracy: 0.9978\n",
      "Epoch 99/125\n",
      "138/138 [==============================] - 103s 742ms/step - loss: 0.1129 - accuracy: 0.9632 - val_loss: 0.0146 - val_accuracy: 0.9954\n",
      "Epoch 100/125\n",
      "138/138 [==============================] - 122s 881ms/step - loss: 0.1042 - accuracy: 0.9649 - val_loss: 0.0168 - val_accuracy: 0.9940\n",
      "Epoch 101/125\n",
      "138/138 [==============================] - 100s 725ms/step - loss: 0.1065 - accuracy: 0.9637 - val_loss: 0.0326 - val_accuracy: 0.9876\n",
      "Epoch 102/125\n",
      "138/138 [==============================] - 112s 805ms/step - loss: 0.1137 - accuracy: 0.9623 - val_loss: 0.0143 - val_accuracy: 0.9958\n",
      "Epoch 103/125\n",
      "138/138 [==============================] - 103s 743ms/step - loss: 0.0998 - accuracy: 0.9661 - val_loss: 0.0193 - val_accuracy: 0.9916\n",
      "Epoch 104/125\n",
      "138/138 [==============================] - 98s 707ms/step - loss: 0.1109 - accuracy: 0.9623 - val_loss: 0.0181 - val_accuracy: 0.9923\n",
      "Epoch 105/125\n",
      "138/138 [==============================] - 101s 728ms/step - loss: 0.1060 - accuracy: 0.9640 - val_loss: 0.0209 - val_accuracy: 0.9937\n",
      "Epoch 106/125\n",
      "138/138 [==============================] - 107s 771ms/step - loss: 0.0995 - accuracy: 0.9660 - val_loss: 0.0174 - val_accuracy: 0.9925\n",
      "Epoch 107/125\n",
      "138/138 [==============================] - 104s 749ms/step - loss: 0.1120 - accuracy: 0.9621 - val_loss: 0.0226 - val_accuracy: 0.9908\n",
      "Epoch 108/125\n",
      "138/138 [==============================] - 103s 741ms/step - loss: 0.0982 - accuracy: 0.9665 - val_loss: 0.0530 - val_accuracy: 0.9824\n",
      "Epoch 109/125\n",
      "138/138 [==============================] - 106s 769ms/step - loss: 0.1091 - accuracy: 0.9632 - val_loss: 0.0144 - val_accuracy: 0.9944\n",
      "Epoch 110/125\n",
      "138/138 [==============================] - 100s 719ms/step - loss: 0.1030 - accuracy: 0.9647 - val_loss: 0.0129 - val_accuracy: 0.9961\n",
      "Epoch 111/125\n",
      "138/138 [==============================] - 107s 773ms/step - loss: 0.0995 - accuracy: 0.9656 - val_loss: 0.0132 - val_accuracy: 0.9954\n",
      "Epoch 112/125\n",
      "138/138 [==============================] - 107s 773ms/step - loss: 0.1031 - accuracy: 0.9658 - val_loss: 0.0192 - val_accuracy: 0.9946\n",
      "Epoch 113/125\n",
      "138/138 [==============================] - 99s 719ms/step - loss: 0.0937 - accuracy: 0.9687 - val_loss: 0.0145 - val_accuracy: 0.9954\n",
      "Epoch 114/125\n",
      "138/138 [==============================] - 105s 759ms/step - loss: 0.0990 - accuracy: 0.9671 - val_loss: 0.0172 - val_accuracy: 0.9929\n",
      "Epoch 115/125\n",
      "138/138 [==============================] - 101s 731ms/step - loss: 0.1004 - accuracy: 0.9664 - val_loss: 0.0130 - val_accuracy: 0.9955\n",
      "Epoch 116/125\n",
      "138/138 [==============================] - 101s 728ms/step - loss: 0.0973 - accuracy: 0.9681 - val_loss: 0.0146 - val_accuracy: 0.9957\n",
      "Epoch 117/125\n",
      "138/138 [==============================] - 110s 791ms/step - loss: 0.0999 - accuracy: 0.9673 - val_loss: 0.0573 - val_accuracy: 0.9809\n",
      "Epoch 118/125\n",
      "138/138 [==============================] - 103s 745ms/step - loss: 0.1001 - accuracy: 0.9654 - val_loss: 0.0164 - val_accuracy: 0.9937\n",
      "Epoch 119/125\n",
      "138/138 [==============================] - 102s 736ms/step - loss: 0.1045 - accuracy: 0.9664 - val_loss: 0.0182 - val_accuracy: 0.9941\n",
      "Epoch 120/125\n",
      "138/138 [==============================] - 110s 797ms/step - loss: 0.0997 - accuracy: 0.9665 - val_loss: 0.0079 - val_accuracy: 0.9969\n",
      "Epoch 121/125\n",
      "138/138 [==============================] - 124s 898ms/step - loss: 0.1051 - accuracy: 0.9646 - val_loss: 0.0169 - val_accuracy: 0.9941\n",
      "Epoch 122/125\n",
      "138/138 [==============================] - 129s 934ms/step - loss: 0.0892 - accuracy: 0.9706 - val_loss: 0.0054 - val_accuracy: 0.9990\n",
      "Epoch 123/125\n",
      "138/138 [==============================] - 138s 997ms/step - loss: 0.0881 - accuracy: 0.9704 - val_loss: 0.0208 - val_accuracy: 0.9921\n",
      "Epoch 124/125\n",
      "138/138 [==============================] - 129s 932ms/step - loss: 0.0972 - accuracy: 0.9675 - val_loss: 0.0084 - val_accuracy: 0.9979\n",
      "Epoch 125/125\n",
      "138/138 [==============================] - 117s 844ms/step - loss: 0.1018 - accuracy: 0.9666 - val_loss: 0.0392 - val_accuracy: 0.9902\n"
     ]
    },
    {
     "data": {
      "text/plain": [
       "<keras.callbacks.History at 0x180143caf70>"
      ]
     },
     "execution_count": 21,
     "metadata": {},
     "output_type": "execute_result"
    }
   ],
   "source": [
    "model.fit(aug.flow(train_data,train_labels,batch_size=200),\n",
    "         epochs = 125,\n",
    "          validation_data=(test_data,test_labels),\n",
    "          shuffle=1\n",
    "         )"
   ]
  },
  {
   "cell_type": "code",
   "execution_count": null,
   "id": "0530b10c",
   "metadata": {},
   "outputs": [],
   "source": []
  }
 ],
 "metadata": {
  "kernelspec": {
   "display_name": "Python 3 (ipykernel)",
   "language": "python",
   "name": "python3"
  },
  "language_info": {
   "codemirror_mode": {
    "name": "ipython",
    "version": 3
   },
   "file_extension": ".py",
   "mimetype": "text/x-python",
   "name": "python",
   "nbconvert_exporter": "python",
   "pygments_lexer": "ipython3",
   "version": "3.9.13"
  }
 },
 "nbformat": 4,
 "nbformat_minor": 5
}
